{
 "cells": [
  {
   "cell_type": "code",
   "execution_count": 2,
   "metadata": {
    "collapsed": true
   },
   "outputs": [],
   "source": [
    "import math\n",
    "import operator"
   ]
  },
  {
   "cell_type": "code",
   "execution_count": 45,
   "metadata": {},
   "outputs": [],
   "source": [
    "def euclideanDistance(instance1, instance2, length):\n",
    "    distance = 0\n",
    "    for x in range(length):\n",
    "        distance += pow((instance1[x] - instance2[x]), 2)\n",
    "    return math.sqrt(distance)\n",
    "\n",
    "def getNeighbors(trainingSet, testInstance, k):\n",
    "    distances = []\n",
    "    length = len(testInstance) - 1\n",
    "    for x in range(len(trainingSet)):\n",
    "        dist = euclideanDistance(testInstance, trainingSet[x], length)\n",
    "        distances.append((trainingSet[x], dist))\n",
    "    distances.sort(key=operator.itemgetter(1))\n",
    "    neighbors = []\n",
    "    for x in range(k):\n",
    "        neighbors.append(distances[x][0])\n",
    "    return neighbors"
   ]
  },
  {
   "cell_type": "code",
   "execution_count": 46,
   "metadata": {},
   "outputs": [
    {
     "name": "stdout",
     "output_type": "stream",
     "text": [
      "[([2, 2, 2, 'a'], 1.4142135623730951), ([4, 4, 4, 'b'], 4.242640687119285), ([5, 5, 5, 'b'], 5.656854249492381), ([6, 6, 6, 'c'], 7.0710678118654755)]\n",
      "[([2, 2, 2, 'a'], 1.4142135623730951), ([4, 4, 4, 'b'], 4.242640687119285), ([5, 5, 5, 'b'], 5.656854249492381), ([6, 6, 6, 'c'], 7.0710678118654755)]\n",
      "[[2, 2, 2, 'a']]\n"
     ]
    }
   ],
   "source": [
    "trainset = [[2,2,2, 'a'],[4,4,4,'b'],[5,5,5,'b'],[6,6,6,'c']]\n",
    "testinstance = [1,1,1]\n",
    "k = 1\n",
    "neighbors = getNeighbors(trainset, testinstance, k)\n",
    "print(neighbors)"
   ]
  },
  {
   "cell_type": "code",
   "execution_count": null,
   "metadata": {
    "collapsed": true
   },
   "outputs": [],
   "source": []
  }
 ],
 "metadata": {
  "kernelspec": {
   "display_name": "Python 3",
   "language": "python",
   "name": "python3"
  },
  "language_info": {
   "codemirror_mode": {
    "name": "ipython",
    "version": 3
   },
   "file_extension": ".py",
   "mimetype": "text/x-python",
   "name": "python",
   "nbconvert_exporter": "python",
   "pygments_lexer": "ipython3",
   "version": "3.5.3"
  }
 },
 "nbformat": 4,
 "nbformat_minor": 2
}
