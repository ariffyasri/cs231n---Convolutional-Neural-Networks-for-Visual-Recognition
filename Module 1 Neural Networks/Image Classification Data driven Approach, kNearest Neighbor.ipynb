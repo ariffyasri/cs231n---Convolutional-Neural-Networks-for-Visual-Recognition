{
 "cells": [
  {
   "cell_type": "markdown",
   "metadata": {},
   "source": [
    "This is an introductory lecture designed to introduce people from outside of Computer Vision to the Image Classification problem, and the data-driven approach. The Table of Contents:\n",
    "\n",
    "* Intro to Image Classification, data-driven approach, pipeline\n",
    "* Nearest Neighbor Classifier\n",
    "* k-Nearest Neighbor\n",
    "* Validation sets, Cross-validation, hyperparameter tuning\n",
    "* Pros/Cons of Nearest Neighbor\n",
    "* Summary\n",
    "* Summary: Applying kNN in practice\n",
    "* Further Reading\n",
    "\n",
    "Suppose now that we are given the CIFAR-10 training set of 50,000 images (5,000 images for every one of the labels), and we wish to label the remaining 10,000. The nearest neighbor classifier will take a test image, compare it to every single one of the training images, and predict the label of the closest training image. In CIFAR-10, the images are 32 pixels high and wide. Each image is labeled with one of 10 classes (for example 'airplane, automobole, bird, etc;).\n",
    "\n",
    "One of the simplest possibilites is to compare the images pixel by pixel and add up all the differences. In other words, given two images and representing them as vectors I1, I2, a resonable choice for comparing them might be the L1 distance:\n",
    "\n",
    "d1(I1,I2)=∑p|Ip1−Ip2|\n",
    "\n",
    "<img src='http://cs231n.github.io/assets/nneg.jpeg'>"
   ]
  },
  {
   "cell_type": "code",
   "execution_count": null,
   "metadata": {
    "collapsed": true
   },
   "outputs": [],
   "source": [
    "import numpy as np\n",
    "import pickle\n",
    "import sys\n",
    "from sklearn.neighbors import  KNeighborsClassifier\n",
    "from tqdm import *\n",
    "import operator"
   ]
  },
  {
   "cell_type": "code",
   "execution_count": null,
   "metadata": {
    "collapsed": true
   },
   "outputs": [],
   "source": [
    "def load_CIFAR10_detail(filename):\n",
    "    \n",
    "    with open(filename, 'rb') as f:\n",
    "        dict = pickle.load(f, encoding='latin1')\n",
    "        \n",
    "        x = dict['data']\n",
    "        y = dict['labels']\n",
    "        x = x.astype(float)\n",
    "        y = np.array(y)\n",
    "        \n",
    "    return x,y\n",
    "\n",
    "\n",
    "def load_CIFAR10(foldername):\n",
    "    \n",
    "    xs = []\n",
    "    ys = []\n",
    "    for i in range(1,6):\n",
    "        file = foldername+ '/data_batch_' + str(i)\n",
    "        X, Y = load_CIFAR10_detail(file)\n",
    "        xs.append(X)\n",
    "        ys.append(Y)\n",
    "    \n",
    "    x_train = np.concatenate(xs)\n",
    "    y_train = np.concatenate(ys)\n",
    "    \n",
    "    del xs, ys\n",
    "    \n",
    "    x_test, y_test = load_CIFAR10_detail('cifar-10-batches-py/test_batch')\n",
    "    \n",
    "    return x_train, y_train, x_test, y_test"
   ]
  },
  {
   "cell_type": "code",
   "execution_count": null,
   "metadata": {
    "collapsed": true
   },
   "outputs": [],
   "source": [
    "Xtr, Ytr, Xte, Yte = load_CIFAR10('cifar-10-batches-py')"
   ]
  },
  {
   "cell_type": "code",
   "execution_count": null,
   "metadata": {},
   "outputs": [],
   "source": [
    "# http://machinelearningmastery.com/tutorial-to-implement-k-nearest-neighbors-in-python-from-scratch/\n",
    "\n",
    "class NearestNeighbor(object):\n",
    "    def __init__(self):\n",
    "        pass\n",
    "    \n",
    "    def train(self, X, y):\n",
    "        \"\"\" X is N x D where each row is an example. Y is 1-dimension of size N \"\"\"\n",
    "        # the nearest neighbor classifier simply remembers all the training data\n",
    "        self.Xtr = X\n",
    "        self.ytr = y\n",
    "        \n",
    "    def predict(self, X,distance='L1',k=1):\n",
    "        \"\"\" X is N x D where each row is an example we wish to predict label for \"\"\"\n",
    "        num_test = X.shape[0]\n",
    "        Ypred = np.zeros(num_test, dtype=self.ytr.dtype)\n",
    "        for i in tqdm(range(num_test)):\n",
    "            if distance == 'L1':\n",
    "                distances = np.sum(np.abs(self.Xtr - X[i,:]), axis = 1)\n",
    "            elif distance == 'L2':\n",
    "                distances = np.sqrt(np.sum(np.square(self.Xtr - X[i,:]), axis=1))\n",
    "            # sort the array and get the index/indices based on k value\n",
    "            sort_neighbors = np.ndarray.argsort(distances)\n",
    "            k_neighbors = sort_neighbors[-k:]\n",
    "            \n",
    "            # votes the best classes based on number of occurences\n",
    "            classVotes = {}\n",
    "            for index in k_neighbors:\n",
    "                pred = self.ytr[index]\n",
    "                if pred in classVotes:\n",
    "                    classVotes[pred] += 1\n",
    "                else:\n",
    "                    classVotes[pred] = 1\n",
    "            \n",
    "            # sort based on number of occurences\n",
    "            sortedVotes = sorted(classVotes.items(), key=operator.itemgetter(1), reverse=True)\n",
    "            \n",
    "            # get the first class sorted\n",
    "            Ypred[i] = self.ytr[sortedVotes[0][0]]\n",
    "        \n",
    "        return Ypred"
   ]
  },
  {
   "cell_type": "code",
   "execution_count": null,
   "metadata": {},
   "outputs": [],
   "source": [
    "nn = NearestNeighbor()\n",
    "nn.train(Xtr, Ytr)\n",
    "Yte_predict = nn.predict(Xte,distance='L2', k=10)\n",
    "print('accuracy; {.2f}'.format(np.mean(Yte_predict == Yte)))"
   ]
  },
  {
   "cell_type": "code",
   "execution_count": null,
   "metadata": {
    "collapsed": true
   },
   "outputs": [],
   "source": []
  }
 ],
 "metadata": {
  "kernelspec": {
   "display_name": "Python 3",
   "language": "python",
   "name": "python3"
  },
  "language_info": {
   "codemirror_mode": {
    "name": "ipython",
    "version": 3
   },
   "file_extension": ".py",
   "mimetype": "text/x-python",
   "name": "python",
   "nbconvert_exporter": "python",
   "pygments_lexer": "ipython3",
   "version": "3.5.3"
  }
 },
 "nbformat": 4,
 "nbformat_minor": 2
}
